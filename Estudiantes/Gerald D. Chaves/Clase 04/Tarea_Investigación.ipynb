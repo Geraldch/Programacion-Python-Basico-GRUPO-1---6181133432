{
 "cells": [
  {
   "cell_type": "markdown",
   "metadata": {},
   "source": [
    "# Tarea de Investigación\n",
    "## Nombre del estudiante: Gerald D. Chaves \n",
    "### Introducción\n",
    "\n",
    "* ¿Cómo influyen las funciones en Python en la modularización y eficiencia de los programas en desarrollo de software?\n",
    "\n",
    "Este tarea de investigación estará buscando la respuesta a esta pregunta, donde se demostrará desde el punto de vista del autor como influyen las funciones en Python.\n",
    "\n",
    "Las funciones en Python son esenciales para hacer que el código sea más estructurado, reutilizable y escalable. Cuando se hacen correctamente, los programas tienden a ser más eficientes y están claramente definidos. Sin embargo, hay numerosos estudiantes que no saben cómo hacer uso de las mejores prácticas al aplicar funciones y cómo impacta en el rendimiento del código.\n",
    "\n",
    "\n",
    "\n",
    "---"
   ]
  },
  {
   "cell_type": "markdown",
   "metadata": {},
   "source": [
    "\n",
    "### Sección: Investigación y Ejemplos\n",
    "\n",
    "\n",
    "#### 1.1 Definición y Propósito de las Funciones en Python\n",
    "\n",
    "##### 1.1.1 ¿Qué son las funciones? \n",
    "\n",
    "Una función te permite definir un bloque de código reutilizable que se puede ejecutar muchas veces dentro de tu programa.\n",
    "\n",
    "Si bien Python ya proporciona muchas funciones integradas como print() y len(), también puedes definir tus propias funciones para usar en tus proyectos.\n",
    "\n",
    "Una de las grandes ventajas de usar funciones en tu código es que reduce el número total de líneas de código en tu proyecto.\n",
    "\n",
    "\n",
    "##### Sintaxis de una funcion\n",
    "En Python, una definición de función tiene las siguientes características:\n",
    "\n",
    "* La palabra clave def.\n",
    "* Un nombre de función.\n",
    "* Paréntesis ’()’, y dentro de los paréntesis los parámetros de entrada, aunque los parámetros de entrada sean opcionales.\n",
    "* Dos puntos ’:’\n",
    "* Algún bloque de código para ejecutar.\n",
    "* Una sentencia de retorno (opcional).\n",
    "\n",
    "\n",
    "\n",
    "---"
   ]
  },
  {
   "cell_type": "code",
   "execution_count": 2,
   "metadata": {},
   "outputs": [
    {
     "name": "stdout",
     "output_type": "stream",
     "text": [
      "Hello!\n",
      "Hello Gerald!\n"
     ]
    },
    {
     "data": {
      "text/plain": [
       "15"
      ]
     },
     "execution_count": 2,
     "metadata": {},
     "output_type": "execute_result"
    }
   ],
   "source": [
    "# Este es un ejemplo de una funcion sin parámetros o retorno de valores\n",
    "\n",
    "def diHola():\n",
    "  print(\"Hello!\")\n",
    "\n",
    "diHola()  # llamada a la función, 'Hello!' se muestra en la consola\n",
    "\n",
    "# función con un parámetro\n",
    "def holaConNombre(name):\n",
    "  print(\"Hello \" + name + \"!\")\n",
    "\n",
    "holaConNombre(\"Gerald\")  # llamada a la función, 'Hello Gerald!' se muestra en la consola\n",
    "\n",
    "# función con múltiples parámetros con una sentencia de retorno\n",
    "def multiplica(num1, num2):\n",
    "  return num1 * num2\n",
    "\n",
    "multiplica(3, 5)  # muestra 15 en la consola"
   ]
  },
  {
   "cell_type": "markdown",
   "metadata": {},
   "source": [
    "##### 1.1.2 Beneficios de modularizar código con funciones.\n",
    "\n",
    "La modularidad en Python se refiere a la división de un programa en módulos más pequeños y manejables. Estos módulos son unidades independientes de código que se pueden desarrollar y mantener por separado. La modularidad facilita la creación y el mantenimiento de programas complejos, ya que permite dividir el código en partes más reducidas y fáciles de gestionar. Esto hace que el código sea más legible, mantenible y escalable.\n",
    "\n",
    "Al utilizar funciones, fomentamos la reutilización de código. Si una operación se repite en varias partes del programa, podemos definirla una sola vez dentro de una función y luego llamarla cuando sea necesario. Esto no solo reduce la cantidad de código escrito, sino que también minimiza los errores y facilita el mantenimiento.\n",
    "\n",
    "La modularidad proporcionada por las funciones también mejora la legibilidad del código. Al aislar funcionalidad específica en funciones nombradas descriptivamente, el flujo del programa principal se vuelve más claro y fácil de seguir.\n",
    "\n",
    "Además, las funciones permiten implementar la abstracción, ocultando los detalles de implementación y mostrando solo una interfaz simple para su uso. Quienes utilicen la función no necesitan saber cómo está implementada internamente, solo cómo invocarla y qué parámetros requiere.\n",
    "\n",
    "\n"
   ]
  },
  {
   "cell_type": "code",
   "execution_count": 8,
   "metadata": {},
   "outputs": [
    {
     "name": "stdout",
     "output_type": "stream",
     "text": [
      "Hola Todos\n",
      "Hola Haciendo test\n"
     ]
    }
   ],
   "source": [
    "def saludoEntidad (x):\n",
    "\tprint(\"Hola \" + x)\n",
    "\n",
    "saludoEntidad(\"Todos\")\n",
    "saludoEntidad(\"Haciendo test\")"
   ]
  },
  {
   "cell_type": "markdown",
   "metadata": {},
   "source": [
    "##### 1.1.3 Importancia de la reutilización del código.\n",
    "\n",
    "La reutilización de código es el proceso de utilizar código existente en lugar de escribirlo desde cero. Esto se puede hacer de diferentes maneras, como utilizando funciones o clases predefinidas, importando bibliotecas o módulos externos, o incluso creando nuestras propias bibliotecas reutilizables.\n",
    "\n",
    "La reutilización de código tiene varios beneficios. En primer lugar, ahorra tiempo y esfuerzo. En lugar de escribir el mismo código una y otra vez, simplemente podemos reutilizarlo en diferentes partes de nuestro programa o en diferentes proyectos. Esto nos permite ser más eficientes y productivos como desarrolladores.\n"
   ]
  },
  {
   "cell_type": "code",
   "execution_count": 10,
   "metadata": {},
   "outputs": [
    {
     "name": "stdout",
     "output_type": "stream",
     "text": [
      "Área del rectángulo: 24\n"
     ]
    }
   ],
   "source": [
    "\n",
    "def area_rectangulo(ancho, alto):\n",
    "    return ancho * alto\n",
    "\n",
    "# Reutilización de funciones\n",
    "ancho = 4\n",
    "alto = 6\n",
    "\n",
    "\n",
    "print(f\"Área del rectángulo: {area_rectangulo(ancho, alto)}\")"
   ]
  },
  {
   "cell_type": "markdown",
   "metadata": {},
   "source": [
    "#### 1.2 Tipos de funciones en Python\n",
    "\n",
    "##### 1.2.1 Funciones con y sin retorno. \n",
    "\n",
    "##### Función sin retorno\n",
    "\n",
    "Una función sin retorno realiza una tarea pero no devuelve ningún valor. En Python, esto se logra simplemente omitiendo la palabra clave return."
   ]
  },
  {
   "cell_type": "code",
   "execution_count": 12,
   "metadata": {},
   "outputs": [
    {
     "name": "stdout",
     "output_type": "stream",
     "text": [
      "¡Hola, Gerald!\n"
     ]
    }
   ],
   "source": [
    "def saludar(nombre):\n",
    "    print(f\"¡Hola, {nombre}!\")\n",
    "\n",
    "# Llamada a la función\n",
    "saludar(\"Gerald\")"
   ]
  },
  {
   "cell_type": "markdown",
   "metadata": {},
   "source": [
    "##### Función con retorno\n",
    "\n",
    "Una función con retorno realiza una tarea y devuelve un valor utilizando la palabra clave return."
   ]
  },
  {
   "cell_type": "code",
   "execution_count": 11,
   "metadata": {},
   "outputs": [
    {
     "name": "stdout",
     "output_type": "stream",
     "text": [
      "La suma es: 8\n"
     ]
    }
   ],
   "source": [
    "def sumar(a, b):\n",
    "    return a + b\n",
    "\n",
    "# Llamada a la función y almacenamiento del resultado\n",
    "resultado = sumar(5, 3)\n",
    "print(f\"La suma es: {resultado}\")"
   ]
  },
  {
   "cell_type": "markdown",
   "metadata": {},
   "source": [
    "##### 1.2.2 Funciones con parámetros y valores predeterminados.\n",
    "\n",
    "Las funciones con parámetros y valores predeterminados permiten definir un valor por defecto para uno o varios parámetros de una función. Esto significa que, si al llamar a la función no se proporciona un argumento para esos parámetros, se usará el valor predeterminado.\n"
   ]
  },
  {
   "cell_type": "code",
   "execution_count": 19,
   "metadata": {},
   "outputs": [
    {
     "name": "stdout",
     "output_type": "stream",
     "text": [
      "¡Hola, Carlos!\n",
      "¡Hola, Amigo!\n"
     ]
    }
   ],
   "source": [
    "#Se define el valor \"Amigo\" para que por defecto sea ese el dato.\n",
    "def saludar(nombre=\"Amigo\"):\n",
    "    print(f\"¡Hola, {nombre}!\")\n",
    "    \n",
    "# Llamadas a la función\n",
    "saludar(\"Carlos\")  # ¡Hola, Carlos!\n",
    "saludar()          # ¡Hola, Amigo!"
   ]
  },
  {
   "cell_type": "markdown",
   "metadata": {},
   "source": [
    "##### Consideracines\n",
    "\n",
    "Los parámetros con valores predeterminados deben aparecer después de los parámetros sin valores predeterminados.\n",
    "\n"
   ]
  },
  {
   "cell_type": "code",
   "execution_count": null,
   "metadata": {},
   "outputs": [],
   "source": [
    "def ejemplo(a, b=10): \n",
    "    pass  # Correcto\n",
    "\n",
    "#Forzado a dar error.\n",
    "def ejemplo(b=10, a):  \n",
    "    pass  # Incorrecto"
   ]
  },
  {
   "cell_type": "markdown",
   "metadata": {},
   "source": [
    "##### 1.2.3 Uso de *args y **kwargs.\n",
    "\n",
    "##### *args: Argumentos Posicionales Variables.\n",
    "\n",
    "El asterisco * antes del nombre de args permite pasar una lista o tupla de argumentos posicionales a una función.\n",
    "\n",
    "*args se comporta como una tupla dentro de la función.\n",
    "\n",
    "Ejemplo:"
   ]
  },
  {
   "cell_type": "code",
   "execution_count": 22,
   "metadata": {},
   "outputs": [
    {
     "name": "stdout",
     "output_type": "stream",
     "text": [
      "6\n",
      "22\n"
     ]
    }
   ],
   "source": [
    "def suma(*args):\n",
    "    return sum(args)\n",
    "\n",
    "print(suma(1, 2, 3))  # 6\n",
    "print(suma(4, 5, 6, 7))  # 22"
   ]
  },
  {
   "cell_type": "code",
   "execution_count": null,
   "metadata": {},
   "outputs": [],
   "source": [
    "# Puede iterarse como cualquier colección en Python.\n",
    "\n",
    "def mostrar_nombres(*args):\n",
    "    for nombre in args:\n",
    "        print(f\"Hola, {nombre}!\")\n",
    "\n",
    "mostrar_nombres(\"Ana\", \"Luis\", \"Marta\")"
   ]
  },
  {
   "cell_type": "markdown",
   "metadata": {},
   "source": [
    "##### **kwargs : Argumentos Posicionales Variables.\n",
    "\n",
    "El doble asterisco ** permite recibir un diccionario de argumentos nombrados (pares clave-valor).\n",
    "\n",
    "**kwargs se comporta como un diccionario.\n",
    "\n",
    "Ejemplo:"
   ]
  },
  {
   "cell_type": "code",
   "execution_count": 23,
   "metadata": {},
   "outputs": [
    {
     "name": "stdout",
     "output_type": "stream",
     "text": [
      "nombre: Carlos\n",
      "edad: 30\n",
      "ciudad: Lima\n"
     ]
    }
   ],
   "source": [
    "def mostrar_info(**kwargs):\n",
    "    for clave, valor in kwargs.items():\n",
    "        print(f\"{clave}: {valor}\")\n",
    "\n",
    "mostrar_info(nombre=\"Carlos\", edad=30, ciudad=\"Lima\")"
   ]
  },
  {
   "cell_type": "markdown",
   "metadata": {},
   "source": [
    "##### Cuándo Usar *args y **kwargs\n",
    "\n",
    "*args: Cuando no sabes cuántos argumentos posicionales se proporcionarán.\n",
    "\n",
    "**kwargs: Cuando necesitas manejar un conjunto variable de argumentos nombrados.\n",
    "\n"
   ]
  },
  {
   "cell_type": "markdown",
   "metadata": {},
   "source": [
    "\n",
    "##### 1.2.4 Funciones anónimas (lambda).\n",
    "\n",
    "Las funciones Lambda son funciones anónimas que solo pueden contener una expresión.\n",
    "\n",
    "Una función lambda se usa cuando necesitas una función sencilla y de rápido acceso: por ejemplo, como argumento de una función de orden mayor como los son *map* o *filter*.\n",
    "\n",
    "La sintaxis de una función lambda es lambda args: expresión. Primero escribes la palabra clave lambda, dejas un espacio, después los argumentos que necesites separados por coma, dos puntos :, y por último la expresión que será el cuerpo de la función.\n",
    "\n",
    "Ejemplo:\n"
   ]
  },
  {
   "cell_type": "code",
   "execution_count": 26,
   "metadata": {},
   "outputs": [
    {
     "name": "stdout",
     "output_type": "stream",
     "text": [
      "[2, 4, 6, 8, 10, 12]\n",
      "['GeraldGerald', 'ChavesChaves', 'ChaconChacon']\n"
     ]
    }
   ],
   "source": [
    "mi_lista = [1, 2, 3, 4, 5, 6]\n",
    "mi_lista2 = [\"Gerald\" , \"Chaves\", \"Chacon\"]\n",
    "#                  map para duplicar todos los elementos de una lista\n",
    "lista_nueva = list(map(lambda x: x * 2, mi_lista))\n",
    "lista_nueva2 = list(map(lambda x: x * 2, mi_lista2))\n",
    "print(lista_nueva)  # [2, 4, 6, 8, 10, 12]\n",
    "print(lista_nueva2)  # ['GeraldGerald', 'ChavesChaves', 'ChaconChacon']"
   ]
  },
  {
   "cell_type": "markdown",
   "metadata": {},
   "source": [
    "##### 1.2.5 Funciones recursivas.\n",
    "\n",
    "\n",
    "Las funciones recursivas en Python son funciones que se llaman a sí mismas durante su ejecución. Son útiles para resolver problemas que pueden dividirse en subproblemas similares, como los relacionados con estructuras repetitivas o divisiones jerárquicas.\n",
    "\n",
    "\n",
    "##### Estructura Básica de una Función Recursiva\n",
    "\n",
    "\n",
    "Una función recursiva debe tener dos componentes clave:\n",
    "\n",
    "1. Caso base: Detiene la recursión y evita bucles infinitos.\n",
    "\n",
    "2. Caso recursivo: Llamada a la misma función con parámetros modificados para acercarse al caso base.\n",
    "\n",
    "\n",
    "\n",
    "\n"
   ]
  },
  {
   "cell_type": "code",
   "execution_count": 27,
   "metadata": {},
   "outputs": [
    {
     "name": "stdout",
     "output_type": "stream",
     "text": [
      "120\n"
     ]
    }
   ],
   "source": [
    "# Ejemplo Simple: Factorial de un Número\n",
    "\n",
    "def factorial(n):\n",
    "    # Caso base\n",
    "    if n == 0 or n == 1:\n",
    "        return 1\n",
    "    # Caso recursivo\n",
    "    return n * factorial(n - 1)\n",
    "\n",
    "print(factorial(5))  # Salida: 120"
   ]
  },
  {
   "cell_type": "markdown",
   "metadata": {},
   "source": [
    "##### 1.2.6 Generadores (yield).\n",
    "\n",
    "Los generadores en Python son una forma eficiente de trabajar con secuencias de datos de gran tamaño, sin necesidad de cargar todos los elementos en memoria al mismo tiempo. \n",
    "A diferencia de las funciones normales que usan return, los generadores utilizan la palabra clave *yield* para devolver elementos de uno en uno, manteniendo el estado de la función entre cada llamada.\n",
    "\n",
    "\n",
    "##### ¿Cómo funcionan los generadores?\n",
    "\n",
    "Cuando una función contiene *yield*, se convierte automáticamente en un generador. En lugar de devolver un valor único y salir, yield \"pausa\" la ejecución de la función y la reanuda en el mismo punto en la siguiente iteración."
   ]
  },
  {
   "cell_type": "code",
   "execution_count": 31,
   "metadata": {},
   "outputs": [
    {
     "name": "stdout",
     "output_type": "stream",
     "text": [
      "0\n",
      "1\n",
      "2\n",
      "3\n",
      "4\n"
     ]
    }
   ],
   "source": [
    "# Ejemplo básico\n",
    "\n",
    "def contador(limite):\n",
    "    n = 0\n",
    "    while n < limite:\n",
    "        yield n\n",
    "        n += 1\n",
    "\n",
    "# Usando el generador\n",
    "for numero in contador(5):\n",
    "    print(numero)"
   ]
  },
  {
   "cell_type": "markdown",
   "metadata": {},
   "source": [
    "##### 1.2.7 Closures y decoradores.\n",
    "\n",
    "##### Closures en Python\n",
    "\n",
    "Un closure en Python es una función interna que recuerda el estado de las variables de su función externa, incluso después de que la función externa haya terminado de ejecutarse. Esto es posible porque las funciones en Python son objetos de primera clase y pueden capturar y recordar el entorno en el que fueron creadas.\n",
    "\n"
   ]
  },
  {
   "cell_type": "code",
   "execution_count": 32,
   "metadata": {},
   "outputs": [
    {
     "name": "stdout",
     "output_type": "stream",
     "text": [
      "10\n",
      "15\n"
     ]
    }
   ],
   "source": [
    "# Ejemplo de Closure \n",
    "\n",
    "def crear_multiplicador(n):\n",
    "    def multiplicar(x):\n",
    "        return x * n\n",
    "    return multiplicar\n",
    "\n",
    "duplicar = crear_multiplicador(2)\n",
    "triplicar = crear_multiplicador(3)\n",
    "\n",
    "print(duplicar(5))  # Output: 10\n",
    "print(triplicar(5))  \n",
    "\n",
    "\n",
    "\n",
    "\n",
    "#En este ejemplo, duplicar y triplicar son closures que recuerdan el valor de n (2 y 3 respectivamente)\n",
    "#incluso después de que la función crear_multiplicador haya terminado de ejecutarse.\n",
    "\n"
   ]
  },
  {
   "cell_type": "markdown",
   "metadata": {},
   "source": [
    "##### Decoradores en Python\n",
    "\n",
    "Un decorador es una función que toma otra función y extiende su comportamiento sin modificar su código. Los decoradores se usan comúnmente para agregar funcionalidades adicionales a las funciones, como registro (logging), validación, etc."
   ]
  },
  {
   "cell_type": "code",
   "execution_count": 35,
   "metadata": {},
   "outputs": [
    {
     "name": "stdout",
     "output_type": "stream",
     "text": [
      "Hola!\n",
      "Estoy aprendiendo Python.\n",
      "¡Adiós!\n"
     ]
    }
   ],
   "source": [
    "# Ejemplo de Decorador\n",
    "\n",
    "def decorador_saludo(func):\n",
    "    def envoltura():\n",
    "        print(\"Hola!\")\n",
    "        func()\n",
    "        print(\"¡Adiós!\")\n",
    "    return envoltura\n",
    "\n",
    "@decorador_saludo\n",
    "def decir_algo():\n",
    "    print(\"Estoy aprendiendo Python.\")\n",
    "    \n",
    "decir_algo()\n",
    "\n",
    "#En este ejemplo, el decorador decorador_saludo envuelve la función decir_algo. \n",
    "#Cuando decir_algo se llama, primero imprime \"Hola!\", luego ejecuta decir_algo, \n",
    "#y finalmente imprime \"¡Adiós!\".\n"
   ]
  },
  {
   "cell_type": "markdown",
   "metadata": {},
   "source": [
    "#### 1.3 Aplicación de Funciones en Problemas Reales\n",
    "\n",
    "##### 1.3.1 Aplicación en estructuras de datos (listas, diccionarios)."
   ]
  }
 ],
 "metadata": {
  "kernelspec": {
   "display_name": "Python 3",
   "language": "python",
   "name": "python3"
  },
  "language_info": {
   "codemirror_mode": {
    "name": "ipython",
    "version": 3
   },
   "file_extension": ".py",
   "mimetype": "text/x-python",
   "name": "python",
   "nbconvert_exporter": "python",
   "pygments_lexer": "ipython3",
   "version": "3.13.1"
  }
 },
 "nbformat": 4,
 "nbformat_minor": 2
}
