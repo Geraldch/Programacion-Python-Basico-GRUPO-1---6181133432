{
 "cells": [
  {
   "cell_type": "markdown",
   "id": "3127ae9d",
   "metadata": {},
   "source": [
    "# CLASE 07 Creación de Arrays\n",
    "## Prof. Andrés Mena Abarca\n",
    "### Estudiante: Gerald D. Chaves Chacón. "
   ]
  },
  {
   "cell_type": "markdown",
   "id": "4075b2ab",
   "metadata": {},
   "source": [
    "### Crear un array a partir de una lista"
   ]
  },
  {
   "cell_type": "code",
   "execution_count": 1,
   "id": "98fafc10",
   "metadata": {},
   "outputs": [],
   "source": [
    "import numpy as np\n",
    "\n"
   ]
  },
  {
   "cell_type": "markdown",
   "id": "0e8e40b3",
   "metadata": {},
   "source": [
    "### Crear un array de ceros de tamaño 5x5"
   ]
  },
  {
   "cell_type": "code",
   "execution_count": 4,
   "id": "043e0131",
   "metadata": {},
   "outputs": [
    {
     "name": "stdout",
     "output_type": "stream",
     "text": [
      "[[0. 0. 0. 0. 0.]\n",
      " [0. 0. 0. 0. 0.]\n",
      " [0. 0. 0. 0. 0.]\n",
      " [0. 0. 0. 0. 0.]\n",
      " [0. 0. 0. 0. 0.]]\n"
     ]
    }
   ],
   "source": [
    "#Código crear un array de ceros de tamaño 5x5\n",
    "array_ceros = np.zeros((5,5))\n",
    "print(array_ceros)\n"
   ]
  },
  {
   "cell_type": "markdown",
   "id": "a640f233",
   "metadata": {},
   "source": [
    "### Crear un array de unos de tamaño 3x3"
   ]
  },
  {
   "cell_type": "code",
   "execution_count": 5,
   "id": "ac2b7096",
   "metadata": {},
   "outputs": [
    {
     "name": "stdout",
     "output_type": "stream",
     "text": [
      "[[1. 1. 1.]\n",
      " [1. 1. 1.]\n",
      " [1. 1. 1.]]\n"
     ]
    }
   ],
   "source": [
    "#Código crear un array de unos de tamaño 3x3\n",
    "array_unos = np.ones((3,3))\n",
    "print(array_unos)"
   ]
  },
  {
   "cell_type": "markdown",
   "id": "5ff1ca1e",
   "metadata": {},
   "source": [
    "### Crear un array con valores espaciados uniformemente de 0 a 9"
   ]
  },
  {
   "cell_type": "code",
   "execution_count": 6,
   "id": "60cefb4b",
   "metadata": {},
   "outputs": [
    {
     "name": "stdout",
     "output_type": "stream",
     "text": [
      "[0. 1. 2. 3. 4. 5. 6. 7. 8. 9.]\n"
     ]
    }
   ],
   "source": [
    "#Código rear un array con valores espaciados uniformemente de 0 a 9\n",
    "array_lineal = np.linspace(0,9,10)\n",
    "print(array_lineal)"
   ]
  },
  {
   "cell_type": "markdown",
   "id": "af014afb",
   "metadata": {},
   "source": [
    "### #Crear un array con 6 valores espaciados linealmente entre 0 y 1\n"
   ]
  },
  {
   "cell_type": "code",
   "execution_count": 7,
   "id": "5ba6f502",
   "metadata": {},
   "outputs": [
    {
     "name": "stdout",
     "output_type": "stream",
     "text": [
      "[0.  0.2 0.4 0.6 0.8 1. ]\n"
     ]
    }
   ],
   "source": [
    "#Código crear un array con 6 valores espaciados linealmente entre 0 y 1\n",
    "array_reto = np.linspace(0,1,6)\n",
    "print(array_reto)"
   ]
  },
  {
   "cell_type": "markdown",
   "id": "90ed91a1",
   "metadata": {},
   "source": [
    "# Operaciones Básicas"
   ]
  },
  {
   "cell_type": "markdown",
   "id": "b000074f",
   "metadata": {},
   "source": [
    "### Realizar una suma, resta, multiplicación y división entre dos arrays"
   ]
  },
  {
   "cell_type": "code",
   "execution_count": 15,
   "id": "ff348071",
   "metadata": {},
   "outputs": [
    {
     "name": "stdout",
     "output_type": "stream",
     "text": [
      "La suma del salario más propinas es de:  [[506 404 209]\n",
      " [352 300 550]]\n",
      "La resta del salario más propinas es de:  [[494 396 191]\n",
      " [348 280 450]]\n",
      "La multiplicacion del salario más propinas es de:  [[ 3000  1600  1800]\n",
      " [  700  2900 25000]]\n",
      "La division del salario más propinas es de:  [[ 83.33333333 100.          22.22222222]\n",
      " [175.          29.          10.        ]]\n"
     ]
    }
   ],
   "source": [
    "#array_salario = np.array([500,400,200])\n",
    "#array_propinas = np.array([6,4,9])\n",
    "\n",
    "#Este sería otra opción de suma de matrices\n",
    "array_salario = np.array([[500,400,200],[350,290,500]])\n",
    "array_propinas = np.array([[6,4,9],[2,10,50]])\n",
    "\n",
    "#Código realizar una suma, resta, multiplicación y división entre dos arrays\n",
    "\n",
    "# Salida\n",
    "'''\n",
    "print(\"La suma es: \",suma)\n",
    "print(\"La resta es: \",resta)\n",
    "print(\"La multiplicacion es: \",multiplicacion)\n",
    "print(\"La division es: \",division)\n",
    "'''\n",
    "\n",
    "\n",
    "suma = array_salario + array_propinas\n",
    "resta = array_salario - array_propinas\n",
    "multiplicacion = array_salario * array_propinas\n",
    "division = array_salario / array_propinas\n",
    "\n",
    "print(\"La suma del salario más propinas es de: \",suma)\n",
    "print(\"La resta del salario más propinas es de: \",resta)\n",
    "print(\"La multiplicacion del salario más propinas es de: \",multiplicacion)\n",
    "print(\"La division del salario más propinas es de: \",division)"
   ]
  },
  {
   "cell_type": "code",
   "execution_count": null,
   "id": "a270ae97",
   "metadata": {},
   "outputs": [],
   "source": [
    "#Calcular el producto punto de dos arrays\n"
   ]
  },
  {
   "cell_type": "code",
   "execution_count": null,
   "id": "dddd8ba1",
   "metadata": {},
   "outputs": [],
   "source": [
    "#Transponer un array\n"
   ]
  },
  {
   "cell_type": "markdown",
   "id": "5e44ba57",
   "metadata": {},
   "source": [
    "# Operaciones Estadísticas"
   ]
  },
  {
   "cell_type": "code",
   "execution_count": 21,
   "id": "7f3e6efd",
   "metadata": {},
   "outputs": [
    {
     "name": "stdout",
     "output_type": "stream",
     "text": [
      "La media es: 3.0\n",
      "La suma es: 15\n",
      "El valor mínimo es: 1\n",
      "El valor máximo es: 5\n"
     ]
    },
    {
     "data": {
      "text/plain": [
       "'\\n# Mostrar los resultados\\nprint(\"La media es:\", media)\\nprint(\"La suma es:\", suma)\\nprint(\"El valor mínimo es:\", valor_minimo)\\nprint(\"El valor máximo es:\", valor_maximo)\\n'"
      ]
     },
     "execution_count": 21,
     "metadata": {},
     "output_type": "execute_result"
    }
   ],
   "source": [
    "#Calcular la media, suma, valor mínimo y valor máximo de un array\n",
    "\n",
    "\n",
    "# Crear un array NumPy\n",
    "array_numeros = np.array([5, 2, 4, 1, 3])\n",
    "\n",
    "\n",
    "\n",
    "\n",
    "# Calcular la media\n",
    "media = np.mean(array_numeros)\n",
    "print(f'La media es: {media}')\n",
    "#media = np.mean(array_numeros)\n",
    "#print(f'La media es:, {media}')\n",
    "\n",
    "# Calcular la suma\n",
    "suma = np.sum(array_numeros)\n",
    "print(f'La suma es: {suma}')\n",
    "\n",
    "\n",
    "# Calcular el valor mínimo\n",
    "minimo = np.min(array_numeros)\n",
    "print(f'El valor mínimo es: {minimo}')\n",
    "\n",
    "\n",
    "# Calcular el valor máximo\n",
    "maximo = np.max(array_numeros)\n",
    "print(f'El valor máximo es: {maximo}')\n",
    "\n",
    "'''\n",
    "# Mostrar los resultados\n",
    "print(\"La media es:\", media)\n",
    "print(\"La suma es:\", suma)\n",
    "print(\"El valor mínimo es:\", valor_minimo)\n",
    "print(\"El valor máximo es:\", valor_maximo)\n",
    "'''\n"
   ]
  },
  {
   "cell_type": "code",
   "execution_count": 22,
   "id": "f6264d86",
   "metadata": {},
   "outputs": [
    {
     "name": "stdout",
     "output_type": "stream",
     "text": [
      "Array original: [1 2 3 4 5 6]\n",
      "Array reshapeado: [[1 2 3]\n",
      " [4 5 6]]\n"
     ]
    },
    {
     "data": {
      "text/plain": [
       "'\\n# Imprimir el array original y el reshapeado\\nprint(\"Array original:\", array_original)\\nprint(\"Array reshapeado:\", array_reshapeado)\\n'"
      ]
     },
     "execution_count": 22,
     "metadata": {},
     "output_type": "execute_result"
    }
   ],
   "source": [
    "#Cambiar la forma de un array \"reshape\"\n",
    "\n",
    "\n",
    "# Crear un array original\n",
    "array_original = np.array([1, 2, 3, 4, 5, 6])\n",
    "\n",
    "# Nueva forma deseada (2 filas y 3 columnas)\n",
    "array_reshapeado = array_original.reshape(2,3)\n",
    "print(\"Array original:\", array_original)\n",
    "print(\"Array reshapeado:\", array_reshapeado)\n",
    "\n",
    "\n",
    "'''\n",
    "# Imprimir el array original y el reshapeado\n",
    "print(\"Array original:\", array_original)\n",
    "print(\"Array reshapeado:\", array_reshapeado)\n",
    "'''"
   ]
  },
  {
   "cell_type": "markdown",
   "id": "195c5f6d",
   "metadata": {},
   "source": [
    "# Álgebra Lineal"
   ]
  },
  {
   "cell_type": "markdown",
   "id": "b920534e",
   "metadata": {},
   "source": [
    "### Calcular el determinante de una matriz 2x2"
   ]
  },
  {
   "cell_type": "code",
   "execution_count": null,
   "id": "d01ce9f8",
   "metadata": {},
   "outputs": [],
   "source": [
    "nuevo_array = np.array([[1,2],[2,5]])\n",
    "\n",
    "#Código para calcular el determinante de una matriz 2x2\n",
    "\n",
    "#print(determinante)"
   ]
  },
  {
   "cell_type": "markdown",
   "id": "b1325b2b",
   "metadata": {},
   "source": [
    "### Calcular la matriz inversa de una matriz 3x3"
   ]
  },
  {
   "cell_type": "code",
   "execution_count": null,
   "id": "9782d614",
   "metadata": {},
   "outputs": [],
   "source": [
    "# Definir la matriz 3x3\n",
    "\n",
    "\n",
    "# Calcular la matriz inversa\n",
    "\n",
    "\n",
    "# Imprimir la matriz inversa\n",
    "\n"
   ]
  },
  {
   "cell_type": "markdown",
   "id": "98f0cfc8",
   "metadata": {},
   "source": [
    "### Calcular los valores propios y vectores propios de una matriz 4x4"
   ]
  },
  {
   "cell_type": "code",
   "execution_count": null,
   "id": "07211323",
   "metadata": {},
   "outputs": [],
   "source": [
    "\n",
    "# Definir la matriz 4x4\n",
    "matriz_4x4 = np.array([[1, 2, 3, 4], [5, 6, 7, 8], [9, 10, 11, 12], [13, 14, 15, 16]])\n",
    "\n",
    "# Calcular valores propios y vectores propios\n",
    "\n",
    "\n",
    "# Separar valores propios y vectores propios\n",
    " # Parte real de los valores propios complejos\n",
    "  # Parte real de los vectores propios complejos\n",
    "\n",
    "# Imprimir resultados\n",
    "'''\n",
    "print(\"Valores propios:\", autovalores)\n",
    "print(\"Vectores propios:\")\n",
    "for i in range(len(autovectores)):\n",
    "    print(f\"Vector propio {i+1}:\", autovectores[i])\n",
    "'''"
   ]
  },
  {
   "cell_type": "markdown",
   "id": "efd4320a",
   "metadata": {},
   "source": [
    "# Funciones Universales"
   ]
  },
  {
   "cell_type": "code",
   "execution_count": null,
   "id": "b6104243",
   "metadata": {},
   "outputs": [],
   "source": [
    "# Crear un array con ángulos\n",
    "array_angulos = np.array([0, np.pi/2, np.pi])\n",
    "\n",
    "# Calcular el seno de los ángulos\n",
    "\n",
    "\n",
    "# Calcular el coseno de los ángulos\n",
    "\n",
    "\n",
    "# Calcular la exponencial de los ángulos\n",
    "\n",
    "\n",
    "# Calcular el logaritmo natural de los ángulos\n",
    "\n",
    "\n"
   ]
  },
  {
   "cell_type": "code",
   "execution_count": null,
   "id": "eadbf298",
   "metadata": {},
   "outputs": [],
   "source": [
    "#Realizar indexación y slicing en un array 2D\n",
    "array_2d = np.array([[1, 2, 3], [4, 5, 6], [7, 8, 9]])\n",
    "\n",
    "\n",
    "# Obtener la primera fila del array\n",
    "\n",
    "\n",
    "# Obtener la última columna del array\n",
    "  # [3, 6, 9]\n",
    "\n",
    "# Obtener una submatriz que contiene la segunda fila y las dos primeras columnas\n",
    "  # [4, 5]\n",
    "\n",
    "# Imprimir los subconjuntos de datos extraídos\n"
   ]
  },
  {
   "cell_type": "markdown",
   "id": "38fb3e51",
   "metadata": {},
   "source": [
    "# Generación de Números Aleatorios"
   ]
  },
  {
   "cell_type": "code",
   "execution_count": null,
   "id": "4c9439b1",
   "metadata": {},
   "outputs": [],
   "source": [
    "#Generar un array de 10 números enteros aleatorios entre 1 y 100\n"
   ]
  },
  {
   "cell_type": "code",
   "execution_count": null,
   "id": "7b67e54f",
   "metadata": {},
   "outputs": [],
   "source": [
    "#Generar una matriz 2x3 con números aleatorios uniformemente distribuidos entre 0 y 1\n"
   ]
  },
  {
   "cell_type": "code",
   "execution_count": null,
   "id": "bc4519a1",
   "metadata": {},
   "outputs": [],
   "source": [
    "#Generar un array de 5 números aleatorios con distribución normal (media 0, desviación estándar 1)\n",
    "\n"
   ]
  },
  {
   "cell_type": "markdown",
   "id": "eaba7c1b",
   "metadata": {},
   "source": [
    "# | Ejercicios Reales o Prácticos | "
   ]
  },
  {
   "cell_type": "code",
   "execution_count": null,
   "id": "3cc10c8b",
   "metadata": {},
   "outputs": [
    {
     "name": "stdout",
     "output_type": "stream",
     "text": [
      "Similitud de preferencias de la pelicula Avatar: 89\n",
      "Similitud de preferencias de la pelicula Grow Up: 111\n",
      "Te recomendamos que veas Grow Up.\n"
     ]
    }
   ],
   "source": [
    "# Preferencias películas [Acción, Comedia, Drama]\n",
    "\n",
    "# Datos de gustos de peliculas de mariana segun accion, comedia, drama.\n",
    "mariana = np.array([7,9,2])\n",
    "\n",
    "# Vamos a evaluar que tanta acccion, que tanta comedia y que tanto drama tiene Avatar\n",
    "avatar = np.array([10, 1, 5]) # Definida como mas accion y menos comedia.\n",
    "grow_up = np.array([1, 10, 7]) # Definida como mas comedio y menos accion.\n",
    "\n",
    "\n",
    "# Calcular la similitud de cada pelicula con los gustos de Mariana\n",
    "similitud_p1 = np.dot(mariana,avatar)\n",
    "similitud_p2 = np.dot(mariana,grow_up)\n",
    "\n",
    "print(f'Similitud de preferencias de la pelicula Avatar: {similitud_p1}')\n",
    "print(f'Similitud de preferencias de la pelicula Grow Up: {similitud_p2}')\n",
    "\n",
    "\n",
    "if similitud_p1 > similitud_p2:\n",
    "    print('Te recomendamos que veas Avatar.')\n",
    "else:\n",
    "    print('Te recomendamos que veas Grow Up.')"
   ]
  },
  {
   "cell_type": "code",
   "execution_count": 25,
   "id": "931b1e79",
   "metadata": {},
   "outputs": [
    {
     "name": "stdout",
     "output_type": "stream",
     "text": [
      "Similitud de preferencias Avatar: 89\n",
      "Similitud de preferencias Brave Heart: 79\n",
      "Recomendamos Avatar\n"
     ]
    }
   ],
   "source": [
    "\n",
    "mariana = np.array([7,9,2])\n",
    "\n",
    "\n",
    "avatar = np.array([10,1,5]) #Mas accion y menos comedia\n",
    "brave_heart = np.array([8,1,7]) # Mas accion y menos accion\n",
    "\n",
    "\n",
    "#Calcular la similitud de cada pelicula con los gusto de Mariana\n",
    "\n",
    "\n",
    "similitud_p1 = np.dot(mariana,avatar)\n",
    "similitud_p2 = np.dot(mariana,brave_heart)\n",
    "\n",
    "\n",
    "print(f'Similitud de preferencias Avatar: {similitud_p1}')\n",
    "print(f'Similitud de preferencias Brave Heart: {similitud_p2}')\n",
    "\n",
    "\n",
    "if similitud_p1 > similitud_p2:\n",
    "    print('Recomendamos Avatar')\n",
    "else:\n",
    "    print('Recomendamos Brave Heart')"
   ]
  },
  {
   "cell_type": "markdown",
   "id": "98e596ef",
   "metadata": {},
   "source": [
    "## CASO #2 "
   ]
  },
  {
   "cell_type": "code",
   "execution_count": 31,
   "id": "c1ff1356",
   "metadata": {},
   "outputs": [
    {
     "name": "stdout",
     "output_type": "stream",
     "text": [
      "Coeficiente de correlación: 0.32\n"
     ]
    }
   ],
   "source": [
    "import numpy as np\n",
    "#Datos Tipo Cambio Dolar Ultimos 10 meses | IPC , metrica mesual\n",
    "\n",
    "\n",
    "tipo_cambio = np.array([506.96,505.00,504.27,505.52,506.23,506.23,506.23,506.58,506.87,507.25])\n",
    "ipc = np.array([109.46,109.55,109.71,109.57,109.70,109.33,108.85, 109.36,110.39,110.79])\n",
    "\n",
    "\n",
    "#Calcular coeficiente de correlación\n",
    "correlacion = np.corrcoef(tipo_cambio,ipc)[0,1]\n",
    "\n",
    "\n",
    "print(f'Coeficiente de correlación: {correlacion:.2f}')"
   ]
  },
  {
   "cell_type": "markdown",
   "id": "42f93f48",
   "metadata": {},
   "source": [
    "## CASO #3 Estudio de Horas vrs Notas"
   ]
  },
  {
   "cell_type": "code",
   "execution_count": 51,
   "id": "2f33d0b5",
   "metadata": {},
   "outputs": [
    {
     "name": "stdout",
     "output_type": "stream",
     "text": [
      "[5 5 3 4 5 3 3 3 4]\n",
      "EL incremento del promerdio por cada hora de estudio es de: 3.89\n",
      "Esta es la cuarta nota de la lita: 63\n",
      "Si estudias 2 horas mas, vas a tener 7.78 puntos mas que la ultima vez.\n",
      "Si estudias 2 horas mas, vas a sacarte un 92.78 en la nota.\n",
      "Si estudias 6 horas, vas a tener 42.78 en la nota.\n",
      "Si estudias 6 horas, el minimo de la nota puede ser de 30.56\n"
     ]
    }
   ],
   "source": [
    "# Datos: Hras de estudio y Notas Obtenidas\n",
    "import numpy as np\n",
    "\n",
    "horas_estudio = np.array([1,2,3,4,5,6,7,8,9,10]) # horas estudio\n",
    "notas = np.array([50,55,60,63,67,72,75,78,81,85]) # notas obtenidas\n",
    "\n",
    "\n",
    "# Calculo de correlacion de los array\n",
    "# Calculo crecimiento del promedio del puntaje por hora de estudio\n",
    "diferencia_notas = np.diff(notas) # Diferencia entre notas consecutivas\n",
    "\n",
    "# Calcular el promedio del incremento de notas\n",
    "incremento_notas = np.mean(diferencia_notas)\n",
    "\n",
    "#Esta es la diferencia de la nota uno con la nota dos, la dos con la tres, etc...\n",
    "print(diferencia_notas)\n",
    "\n",
    "#print(incremento_notas)                                                              #para poner decimales\n",
    "print(f'EL incremento del promerdio por cada hora de estudio es de: {incremento_notas:.2f}')\n",
    "\n",
    "# Para mostrar el dato del array del campo 3 del indice, empiza en 0.\n",
    "print(f'Esta es la cuarta nota de la lita: {notas[3]}')\n",
    "\n",
    "\n",
    "# Estimacion del puntaje si estudio 12 horas\n",
    "# 2 horas mas que la ultimo valor de horas_estudio (10)\n",
    "objetivo_horas_estudiar = 12\n",
    "\n",
    "puntos_a_obtener = (objetivo_horas_estudiar - max(horas_estudio)) * incremento_notas \n",
    "nota_a_obtener = (objetivo_horas_estudiar - max(horas_estudio)) * incremento_notas + max(notas)\n",
    "\n",
    "\n",
    "print(f'Si estudias 2 horas mas, vas a tener {puntos_a_obtener:.2f} puntos mas que la ultima vez.')\n",
    "print(f'Si estudias 2 horas mas, vas a sacarte un {nota_a_obtener:.2f} en la nota.')\n",
    "\n",
    "\n",
    "# Estimacion del puntaje minin que obtendre si estudio 6 horas\n",
    "objetivo_minimo_horas_estudiar = 6\n",
    "\n",
    "puntos_a_obtener_min = (objetivo_horas_estudiar - min(horas_estudio)) * incremento_notas \n",
    "nota_a_obtener_min = (min(horas_estudio) - objetivo_minimo_horas_estudiar) * incremento_notas + min(notas)\n",
    "\n",
    "print(f'Si estudias 6 horas, vas a tener {puntos_a_obtener_min:.2f} en la nota.')\n",
    "print(f'Si estudias 6 horas, el minimo de la nota puede ser de {nota_a_obtener_min:.2f}')\n"
   ]
  },
  {
   "cell_type": "code",
   "execution_count": 52,
   "id": "704a0485",
   "metadata": {},
   "outputs": [
    {
     "name": "stdout",
     "output_type": "stream",
     "text": [
      "El incremento del promedio por cada hora de estudio 3.89\n",
      "92.77777777777777\n"
     ]
    }
   ],
   "source": [
    "import numpy as np\n",
    "#Datos: Horas de estudio y Notas Obtenidas\n",
    "\n",
    "\n",
    "horas_estudio = np.array([1,2,3,4,5,6,7,8,9,10]) # Horas de estudio\n",
    "notas = np.array([50,55,60,63,67,72,75,78,81,85]) # Notas Obtenida\n",
    "\n",
    "\n",
    "#Cálculo crecimiento del promedio del puntuje por hora de estudio\n",
    "diferencias_notas = np.diff(notas)# Difrencias entre notas consecutivas\n",
    "incremento_notas = np.average(diferencias_notas)\n",
    "\n",
    "\n",
    "#Estimación del puntaje si estudio 12 horas\n",
    "proyeccion_estudio= 12\n",
    "nota_estimada = (proyeccion_estudio - max(horas_estudio)) * incremento_notas + max(notas)\n",
    "\n",
    "\n",
    "\n",
    "print(f\"El incremento del promedio por cada hora de estudio {incremento_notas:.2f}\")\n",
    "print(nota_estimada)"
   ]
  }
 ],
 "metadata": {
  "kernelspec": {
   "display_name": "Python 3",
   "language": "python",
   "name": "python3"
  },
  "language_info": {
   "codemirror_mode": {
    "name": "ipython",
    "version": 3
   },
   "file_extension": ".py",
   "mimetype": "text/x-python",
   "name": "python",
   "nbconvert_exporter": "python",
   "pygments_lexer": "ipython3",
   "version": "3.13.1"
  }
 },
 "nbformat": 4,
 "nbformat_minor": 5
}
